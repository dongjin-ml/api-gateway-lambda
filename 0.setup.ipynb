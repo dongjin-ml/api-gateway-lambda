{
 "cells": [
  {
   "cell_type": "markdown",
   "metadata": {},
   "source": [
    "# <B> Setup for api-gateway with lambda </B>"
   ]
  },
  {
   "cell_type": "markdown",
   "metadata": {},
   "source": [
    "## AutoReload"
   ]
  },
  {
   "cell_type": "code",
   "execution_count": 1,
   "metadata": {},
   "outputs": [],
   "source": [
    "%load_ext autoreload\n",
    "%autoreload 2"
   ]
  },
  {
   "cell_type": "markdown",
   "metadata": {},
   "source": [
    "## 0. Install requirements"
   ]
  },
  {
   "cell_type": "code",
   "execution_count": 2,
   "metadata": {},
   "outputs": [
    {
     "name": "stdout",
     "output_type": "stream",
     "text": [
      "~/SageMaker/api-gateway-lambda/dependency ~/SageMaker/api-gateway-lambda\n",
      "\n",
      "=== Environment Settting for Dynamic AB-Testing with MLOps ===\n",
      "    WORKDIR: /home/ec2-user/SageMaker/api-gateway-lambda/dependency \n",
      "\n",
      "Looking in indexes: https://pypi.org/simple, https://pip.repos.neuron.amazonaws.com\n",
      "Requirement already satisfied: pip in /home/ec2-user/anaconda3/envs/python3/lib/python3.8/site-packages (22.3.1)\n",
      "Looking in indexes: https://pypi.org/simple, https://pip.repos.neuron.amazonaws.com\n",
      "Requirement already satisfied: pandas in /home/ec2-user/anaconda3/envs/python3/lib/python3.8/site-packages (from -r requirements.txt (line 1)) (1.3.4)\n",
      "Requirement already satisfied: scikit-learn in /home/ec2-user/anaconda3/envs/python3/lib/python3.8/site-packages (from -r requirements.txt (line 2)) (1.0.1)\n",
      "Requirement already satisfied: numpy in /home/ec2-user/anaconda3/envs/python3/lib/python3.8/site-packages (from -r requirements.txt (line 3)) (1.20.3)\n",
      "Requirement already satisfied: awscli==1.26.0 in /home/ec2-user/anaconda3/envs/python3/lib/python3.8/site-packages (from -r requirements.txt (line 4)) (1.26.0)\n",
      "Requirement already satisfied: sagemaker==2.113.0 in /home/ec2-user/anaconda3/envs/python3/lib/python3.8/site-packages (from -r requirements.txt (line 5)) (2.113.0)\n",
      "Requirement already satisfied: boto3==1.25.0 in /home/ec2-user/anaconda3/envs/python3/lib/python3.8/site-packages (from -r requirements.txt (line 6)) (1.25.0)\n",
      "Requirement already satisfied: fsspec in /home/ec2-user/anaconda3/envs/python3/lib/python3.8/site-packages (from -r requirements.txt (line 7)) (2021.11.1)\n",
      "Requirement already satisfied: s3fs in /home/ec2-user/anaconda3/envs/python3/lib/python3.8/site-packages (from -r requirements.txt (line 8)) (0.4.0)\n",
      "Requirement already satisfied: botocore in /home/ec2-user/anaconda3/envs/python3/lib/python3.8/site-packages (from -r requirements.txt (line 9)) (1.28.0)\n",
      "Requirement already satisfied: requests in /home/ec2-user/anaconda3/envs/python3/lib/python3.8/site-packages (from -r requirements.txt (line 10)) (2.26.0)\n",
      "Requirement already satisfied: docutils<0.17,>=0.10 in /home/ec2-user/anaconda3/envs/python3/lib/python3.8/site-packages (from awscli==1.26.0->-r requirements.txt (line 4)) (0.15.2)\n",
      "Requirement already satisfied: s3transfer<0.7.0,>=0.6.0 in /home/ec2-user/anaconda3/envs/python3/lib/python3.8/site-packages (from awscli==1.26.0->-r requirements.txt (line 4)) (0.6.0)\n",
      "Requirement already satisfied: PyYAML<5.5,>=3.10 in /home/ec2-user/anaconda3/envs/python3/lib/python3.8/site-packages (from awscli==1.26.0->-r requirements.txt (line 4)) (5.4.1)\n",
      "Requirement already satisfied: rsa<4.8,>=3.1.2 in /home/ec2-user/anaconda3/envs/python3/lib/python3.8/site-packages (from awscli==1.26.0->-r requirements.txt (line 4)) (4.7.2)\n",
      "Requirement already satisfied: colorama<0.4.5,>=0.2.5 in /home/ec2-user/anaconda3/envs/python3/lib/python3.8/site-packages (from awscli==1.26.0->-r requirements.txt (line 4)) (0.4.3)\n",
      "Requirement already satisfied: protobuf3-to-dict<1.0,>=0.1.5 in /home/ec2-user/anaconda3/envs/python3/lib/python3.8/site-packages (from sagemaker==2.113.0->-r requirements.txt (line 5)) (0.1.5)\n",
      "Requirement already satisfied: protobuf<4.0,>=3.1 in /home/ec2-user/anaconda3/envs/python3/lib/python3.8/site-packages (from sagemaker==2.113.0->-r requirements.txt (line 5)) (3.19.1)\n",
      "Requirement already satisfied: packaging>=20.0 in /home/ec2-user/anaconda3/envs/python3/lib/python3.8/site-packages (from sagemaker==2.113.0->-r requirements.txt (line 5)) (21.3)\n",
      "Requirement already satisfied: pathos in /home/ec2-user/anaconda3/envs/python3/lib/python3.8/site-packages (from sagemaker==2.113.0->-r requirements.txt (line 5)) (0.2.8)\n",
      "Requirement already satisfied: google-pasta in /home/ec2-user/anaconda3/envs/python3/lib/python3.8/site-packages (from sagemaker==2.113.0->-r requirements.txt (line 5)) (0.2.0)\n",
      "Requirement already satisfied: smdebug-rulesconfig==1.0.1 in /home/ec2-user/anaconda3/envs/python3/lib/python3.8/site-packages (from sagemaker==2.113.0->-r requirements.txt (line 5)) (1.0.1)\n",
      "Requirement already satisfied: importlib-metadata<5.0,>=1.4.0 in /home/ec2-user/anaconda3/envs/python3/lib/python3.8/site-packages (from sagemaker==2.113.0->-r requirements.txt (line 5)) (4.8.2)\n",
      "Requirement already satisfied: attrs<23,>=20.3.0 in /home/ec2-user/anaconda3/envs/python3/lib/python3.8/site-packages (from sagemaker==2.113.0->-r requirements.txt (line 5)) (21.2.0)\n",
      "Requirement already satisfied: schema in /home/ec2-user/anaconda3/envs/python3/lib/python3.8/site-packages (from sagemaker==2.113.0->-r requirements.txt (line 5)) (0.7.5)\n",
      "Requirement already satisfied: jmespath<2.0.0,>=0.7.1 in /home/ec2-user/anaconda3/envs/python3/lib/python3.8/site-packages (from boto3==1.25.0->-r requirements.txt (line 6)) (0.10.0)\n",
      "Requirement already satisfied: urllib3<1.27,>=1.25.4 in /home/ec2-user/anaconda3/envs/python3/lib/python3.8/site-packages (from botocore->-r requirements.txt (line 9)) (1.26.8)\n",
      "Requirement already satisfied: python-dateutil<3.0.0,>=2.1 in /home/ec2-user/anaconda3/envs/python3/lib/python3.8/site-packages (from botocore->-r requirements.txt (line 9)) (2.8.2)\n",
      "Requirement already satisfied: pytz>=2017.3 in /home/ec2-user/anaconda3/envs/python3/lib/python3.8/site-packages (from pandas->-r requirements.txt (line 1)) (2021.3)\n",
      "Requirement already satisfied: joblib>=0.11 in /home/ec2-user/anaconda3/envs/python3/lib/python3.8/site-packages (from scikit-learn->-r requirements.txt (line 2)) (1.1.0)\n",
      "Requirement already satisfied: threadpoolctl>=2.0.0 in /home/ec2-user/anaconda3/envs/python3/lib/python3.8/site-packages (from scikit-learn->-r requirements.txt (line 2)) (3.0.0)\n",
      "Requirement already satisfied: scipy>=1.1.0 in /home/ec2-user/anaconda3/envs/python3/lib/python3.8/site-packages (from scikit-learn->-r requirements.txt (line 2)) (1.5.3)\n",
      "Requirement already satisfied: certifi>=2017.4.17 in /home/ec2-user/anaconda3/envs/python3/lib/python3.8/site-packages (from requests->-r requirements.txt (line 10)) (2021.10.8)\n",
      "Requirement already satisfied: charset-normalizer~=2.0.0 in /home/ec2-user/anaconda3/envs/python3/lib/python3.8/site-packages (from requests->-r requirements.txt (line 10)) (2.0.8)\n",
      "Requirement already satisfied: idna<4,>=2.5 in /home/ec2-user/anaconda3/envs/python3/lib/python3.8/site-packages (from requests->-r requirements.txt (line 10)) (3.1)\n",
      "Requirement already satisfied: zipp>=0.5 in /home/ec2-user/anaconda3/envs/python3/lib/python3.8/site-packages (from importlib-metadata<5.0,>=1.4.0->sagemaker==2.113.0->-r requirements.txt (line 5)) (3.6.0)\n",
      "Requirement already satisfied: pyparsing!=3.0.5,>=2.0.2 in /home/ec2-user/anaconda3/envs/python3/lib/python3.8/site-packages (from packaging>=20.0->sagemaker==2.113.0->-r requirements.txt (line 5)) (3.0.6)\n",
      "Requirement already satisfied: six in /home/ec2-user/anaconda3/envs/python3/lib/python3.8/site-packages (from protobuf3-to-dict<1.0,>=0.1.5->sagemaker==2.113.0->-r requirements.txt (line 5)) (1.16.0)\n",
      "Requirement already satisfied: pyasn1>=0.1.3 in /home/ec2-user/anaconda3/envs/python3/lib/python3.8/site-packages (from rsa<4.8,>=3.1.2->awscli==1.26.0->-r requirements.txt (line 4)) (0.4.8)\n",
      "Requirement already satisfied: dill>=0.3.4 in /home/ec2-user/anaconda3/envs/python3/lib/python3.8/site-packages (from pathos->sagemaker==2.113.0->-r requirements.txt (line 5)) (0.3.4)\n",
      "Requirement already satisfied: multiprocess>=0.70.12 in /home/ec2-user/anaconda3/envs/python3/lib/python3.8/site-packages (from pathos->sagemaker==2.113.0->-r requirements.txt (line 5)) (0.70.12.2)\n",
      "Requirement already satisfied: pox>=0.3.0 in /home/ec2-user/anaconda3/envs/python3/lib/python3.8/site-packages (from pathos->sagemaker==2.113.0->-r requirements.txt (line 5)) (0.3.0)\n",
      "Requirement already satisfied: ppft>=1.6.6.4 in /home/ec2-user/anaconda3/envs/python3/lib/python3.8/site-packages (from pathos->sagemaker==2.113.0->-r requirements.txt (line 5)) (1.6.6.4)\n",
      "Requirement already satisfied: contextlib2>=0.5.5 in /home/ec2-user/anaconda3/envs/python3/lib/python3.8/site-packages (from schema->sagemaker==2.113.0->-r requirements.txt (line 5)) (21.6.0)\n",
      "\n",
      "=== Done ===\n",
      "~/SageMaker/api-gateway-lambda\n"
     ]
    }
   ],
   "source": [
    "%%sh\n",
    "bash ./dependency/setup.sh"
   ]
  },
  {
   "cell_type": "markdown",
   "metadata": {},
   "source": [
    "## 1. Set roles"
   ]
  },
  {
   "cell_type": "code",
   "execution_count": 3,
   "metadata": {},
   "outputs": [],
   "source": [
    "from utils.iam import iam_handler\n",
    "from sagemaker import get_execution_role"
   ]
  },
  {
   "cell_type": "code",
   "execution_count": 4,
   "metadata": {},
   "outputs": [
    {
     "name": "stdout",
     "output_type": "stream",
     "text": [
      "SageMaker Execution Role Name: AmazonSageMaker-ExecutionRole-20221206T163436\n"
     ]
    }
   ],
   "source": [
    "iam = iam_handler()\n",
    "strSageMakerRoleName = get_execution_role().rsplit('/', 1)[-1]\n",
    "print (f\"SageMaker Execution Role Name: {strSageMakerRoleName}\")"
   ]
  },
  {
   "cell_type": "code",
   "execution_count": 5,
   "metadata": {},
   "outputs": [],
   "source": [
    "strPrefix = \"API-GATEWAY-LAMBDA-DEMO-\""
   ]
  },
  {
   "cell_type": "markdown",
   "metadata": {},
   "source": [
    "### 2.1 Attach IAM polich to sagemaker execution role (<b>with console</b>)\n",
    "> step 1. IAM console 로 이동    \n",
    ">\n",
    "> step 2. 왼쪽 네비게이터에서  \"Role\" 선택  \n",
    "> ![nn](images/Role.png)  \n",
    ">\n",
    "> step 3. SageMaker Execution Role 검색 후 role 선택 (상위 cell output 참조)  \n",
    "> ![nn](images/search-by-rolename.png)  \n",
    ">\n",
    "> step 4. \"attach policies\" 메뉴 선택 \n",
    "> ![nn](images/attach-policy-menu.png)  \n",
    ">\n",
    "> step 5. \"IAMFullAccess\" policy 검색 후 attach \n",
    "> ![nn](images/attach-policy.png) "
   ]
  },
  {
   "cell_type": "markdown",
   "metadata": {},
   "source": [
    "### 2.2 Attach policy - sagemaker execution role\n",
    "> SSM  \n",
    "> Lambda  \n",
    "> API-GATEWAY  \n",
    "> DynamoDB"
   ]
  },
  {
   "cell_type": "code",
   "execution_count": 6,
   "metadata": {},
   "outputs": [],
   "source": [
    "listPolicyArn=[\n",
    "    \"arn:aws:iam::aws:policy/AmazonSSMFullAccess\",\n",
    "    \"arn:aws:iam::aws:policy/AWSLambda_FullAccess\",\n",
    "    \"arn:aws:iam::aws:policy/AmazonAPIGatewayAdministrator\",\n",
    "    \"arn:aws:iam::aws:policy/AmazonDynamoDBFullAccess\",\n",
    "]\n",
    "for strPolicyArn in listPolicyArn: iam.attach_policy(strSageMakerRoleName, strPolicyArn)"
   ]
  },
  {
   "cell_type": "markdown",
   "metadata": {},
   "source": [
    "### 2.3 role-lambda\n",
    "> SageMaker  \n",
    "> DynamoDB   \n",
    "> LambdaBasicExecution  "
   ]
  },
  {
   "cell_type": "code",
   "execution_count": 7,
   "metadata": {},
   "outputs": [],
   "source": [
    "listService = [\"lambda.amazonaws.com\"]\n",
    "strRoleName = \"\".join([strPrefix, \"LambdaRole\"])\n",
    "listPolicyArn = [\n",
    "    \"arn:aws:iam::aws:policy/service-role/AWSLambdaBasicExecutionRole\",\n",
    "    \"arn:aws:iam::aws:policy/AmazonSageMakerFullAccess\",\n",
    "    \"arn:aws:iam::aws:policy/AmazonDynamoDBFullAccess\"\n",
    "]\n",
    "strDescription=\"Role for Lambda to call SageMaker functions'\""
   ]
  },
  {
   "cell_type": "code",
   "execution_count": 8,
   "metadata": {},
   "outputs": [
    {
     "name": "stdout",
     "output_type": "stream",
     "text": [
      "== CREATE ROLE ==\n",
      "  Service name: ['lambda.amazonaws.com'], \n",
      "  Role name: API-GATEWAY-LAMBDA-DEMO-LambdaRole, \n",
      "  Policys: ['arn:aws:iam::aws:policy/service-role/AWSLambdaBasicExecutionRole', 'arn:aws:iam::aws:policy/AmazonSageMakerFullAccess', 'arn:aws:iam::aws:policy/AmazonDynamoDBFullAccess'], \n",
      "  Role ARN: arn:aws:iam::419974056037:role/API-GATEWAY-LAMBDA-DEMO-LambdaRole\n",
      "== COMPLETED ==\n",
      "LAMBDA-ROLE-ARN: arn:aws:iam::419974056037:role/API-GATEWAY-LAMBDA-DEMO-LambdaRole\n"
     ]
    }
   ],
   "source": [
    "lambdaRoleArn = iam.create_role(\n",
    "    listService=listService,\n",
    "    strRoleName=strRoleName,\n",
    "    listPolicyArn = listPolicyArn,\n",
    "    strDescription=strDescription\n",
    ")\n",
    "print (f\"LAMBDA-ROLE-ARN: {lambdaRoleArn}\")"
   ]
  },
  {
   "cell_type": "markdown",
   "metadata": {},
   "source": [
    "### 2.4 role-apigateway\n",
    "> AmazonAPIGatewayPushToCloudWatchLogs"
   ]
  },
  {
   "cell_type": "code",
   "execution_count": 17,
   "metadata": {},
   "outputs": [],
   "source": [
    "listService = [\"apigateway.amazonaws.com\"]\n",
    "strRoleName = \"\".join([\"apiGatewayRole\"])\n",
    "listPolicyArn = [\n",
    "    \"arn:aws:iam::aws:policy/service-role/AmazonAPIGatewayPushToCloudWatchLogs\",\n",
    "]\n",
    "strDescription=\"Role for API-Gateway to get permission to CloudWatch'\""
   ]
  },
  {
   "cell_type": "code",
   "execution_count": 20,
   "metadata": {},
   "outputs": [
    {
     "name": "stdout",
     "output_type": "stream",
     "text": [
      "== CREATE ROLE ==\n",
      "  Role Name: [apiGatewayRole] is already exist!!, so, this will be deleted and re-created.\n",
      "{'ResponseMetadata': {'RequestId': 'c31a63da-6fa6-4b71-843c-a5c53fc4ce8c', 'HTTPStatusCode': 200, 'HTTPHeaders': {'x-amzn-requestid': 'c31a63da-6fa6-4b71-843c-a5c53fc4ce8c', 'content-type': 'text/xml', 'content-length': '212', 'date': 'Tue, 13 Dec 2022 02:44:56 GMT'}, 'RetryAttempts': 0}}\n",
      "arn:aws:iam::aws:policy/service-role/AmazonAPIGatewayPushToCloudWatchLogs\n",
      "  Service name: ['apigateway.amazonaws.com'], \n",
      "  Role name: apiGatewayRole, \n",
      "  Policys: ['arn:aws:iam::aws:policy/service-role/AmazonAPIGatewayPushToCloudWatchLogs'], \n",
      "  Role ARN: arn:aws:iam::419974056037:role/apiGatewayRole\n",
      "== COMPLETED ==\n",
      "API-GATEWAY-ROLE-ARN: arn:aws:iam::419974056037:role/API-GATEWAY-LAMBDA-DEMO-LambdaRole\n"
     ]
    }
   ],
   "source": [
    "apiGatewayRoleArn = iam.create_role(\n",
    "    listService=listService,\n",
    "    strRoleName=strRoleName,\n",
    "    listPolicyArn = listPolicyArn,\n",
    "    strDescription=strDescription\n",
    ")\n",
    "print (f\"API-GATEWAY-ROLE-ARN: {lambdaRoleArn}\")"
   ]
  },
  {
   "cell_type": "markdown",
   "metadata": {},
   "source": [
    "### 2.5 Enable CloudWatch Logs in API Gateway REST API\n",
    "> step 1. api-gateway setting 화면 접속 (https://console.aws.amazon.com/apigateway/home#/settings)\n",
    ">\n",
    "> step 2. \"CloudWatch log role ARN\"에 2.4에서 만든 apigatewat role (\"apiGatewayRole\") ARN 입력\n",
    ">> 상위 cell output 참고\n"
   ]
  },
  {
   "cell_type": "markdown",
   "metadata": {},
   "source": [
    "## 2. Set default parameters"
   ]
  },
  {
   "cell_type": "code",
   "execution_count": 21,
   "metadata": {},
   "outputs": [],
   "source": [
    "import boto3\n",
    "import sagemaker\n",
    "from utils.ssm import parameter_store"
   ]
  },
  {
   "cell_type": "code",
   "execution_count": 24,
   "metadata": {},
   "outputs": [],
   "source": [
    "pm = parameter_store(strRegionName)\n",
    "strRegionName=boto3.Session().region_name"
   ]
  },
  {
   "cell_type": "code",
   "execution_count": 25,
   "metadata": {},
   "outputs": [
    {
     "data": {
      "text/plain": [
       "'Store suceess'"
      ]
     },
     "execution_count": 25,
     "metadata": {},
     "output_type": "execute_result"
    }
   ],
   "source": [
    "pm.put_params(key=\"PREFIX\", value=strPrefix, overwrite=True)\n",
    "pm.put_params(key=\"\".join([strPrefix, \"REGION\"]), value=strRegionName, overwrite=True)\n",
    "pm.put_params(key=\"\".join([strPrefix, \"ACCOUNT-ID\"]), value=boto3.client(\"sts\").get_caller_identity().get(\"Account\"), overwrite=True)\n",
    "pm.put_params(key=\"\".join([strPrefix, \"BUCKET\"]), value=sagemaker.Session().default_bucket(), overwrite=True)\n",
    "pm.put_params(key=\"\".join([strPrefix, \"SAGEMAKER-ROLE-ARN\"]), value=get_execution_role(), overwrite=True)\n",
    "pm.put_params(key=\"\".join([strPrefix, \"LAMBDA-ROLE-ARN\"]), value=lambdaRoleArn, overwrite=True)"
   ]
  },
  {
   "cell_type": "code",
   "execution_count": null,
   "metadata": {},
   "outputs": [],
   "source": []
  }
 ],
 "metadata": {
  "kernelspec": {
   "display_name": "conda_python3",
   "language": "python",
   "name": "conda_python3"
  },
  "language_info": {
   "codemirror_mode": {
    "name": "ipython",
    "version": 3
   },
   "file_extension": ".py",
   "mimetype": "text/x-python",
   "name": "python",
   "nbconvert_exporter": "python",
   "pygments_lexer": "ipython3",
   "version": "3.8.12"
  },
  "vscode": {
   "interpreter": {
    "hash": "aca522a4f3a95a8cc19c0c49aa2b52717208ab4d9caac282bf163cf809ab5536"
   }
  }
 },
 "nbformat": 4,
 "nbformat_minor": 4
}
