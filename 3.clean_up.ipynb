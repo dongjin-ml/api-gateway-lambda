{
 "cells": [
  {
   "cell_type": "markdown",
   "metadata": {},
   "source": [
    "# <b> Clean up </b>"
   ]
  },
  {
   "cell_type": "markdown",
   "metadata": {},
   "source": [
    "## AutoReload"
   ]
  },
  {
   "cell_type": "code",
   "execution_count": 1,
   "metadata": {},
   "outputs": [],
   "source": [
    "%load_ext autoreload\n",
    "%autoreload 2"
   ]
  },
  {
   "cell_type": "markdown",
   "metadata": {},
   "source": [
    "## Clean up"
   ]
  },
  {
   "cell_type": "code",
   "execution_count": 2,
   "metadata": {},
   "outputs": [],
   "source": [
    "import boto3\n",
    "from utils.ddb import ddb_handler\n",
    "from utils.iam import iam_handler\n",
    "from utils.ssm import parameter_store\n",
    "from utils.lambda_func import lambda_handler\n",
    "from utils.api_gateway import api_gateway_handler"
   ]
  },
  {
   "cell_type": "code",
   "execution_count": 3,
   "metadata": {},
   "outputs": [],
   "source": [
    "strRegionName=boto3.Session().region_name\n",
    "pm = parameter_store(strRegionName)\n",
    "strPrefix = pm.get_params(key=\"PREFIX\")"
   ]
  },
  {
   "cell_type": "markdown",
   "metadata": {},
   "source": [
    "> API-Gateway and Lambda"
   ]
  },
  {
   "cell_type": "code",
   "execution_count": 4,
   "metadata": {},
   "outputs": [
    {
     "name": "stdout",
     "output_type": "stream",
     "text": [
      "  lambda function: [API-GATEWAY-LAMBDA-DEMO-Lambda] is deleted successfully\n",
      "  api-gateway: [eqza38p6m9] is deleted successfully\n"
     ]
    }
   ],
   "source": [
    "lam_handler = lambda_handler(region_name=pm.get_params(key=\"\".join([strPrefix, \"REGION\"])))\n",
    "apig = api_gateway_handler(pm.get_params(key=strPrefix+\"REGION\"))\n",
    "strLambdaName = pm.get_params(key=strPrefix+\"LAMBDA-NAME\")\n",
    "strApiId = pm.get_params(key=strPrefix+\"API-ID\")\n",
    "\n",
    "lam_handler.delete_function(strLambdaName)\n",
    "apig._delete_rest_api(api_id=strApiId)"
   ]
  },
  {
   "cell_type": "markdown",
   "metadata": {},
   "source": [
    "> DynamoDB and RDS (Aurora)"
   ]
  },
  {
   "cell_type": "code",
   "execution_count": 6,
   "metadata": {},
   "outputs": [
    {
     "name": "stdout",
     "output_type": "stream",
     "text": [
      "Table [API-GATEWAY-LAMBDA-DEMO-inference-results] is ACTIVE now.\n",
      "Table [API-GATEWAY-LAMBDA-DEMO-inference-results] is deleted successfully.\n"
     ]
    }
   ],
   "source": [
    "ddb_inf_res = ddb_handler(strTableName=pm.get_params(strPrefix+\"INFERENCE-RES-TABLE-NAME\"), region_name=pm.get_params(key=strPrefix+\"REGION\"))\n",
    "ddb_inf_res.delete_table()"
   ]
  },
  {
   "cell_type": "markdown",
   "metadata": {},
   "source": [
    ">Role"
   ]
  },
  {
   "cell_type": "code",
   "execution_count": 8,
   "metadata": {},
   "outputs": [],
   "source": [
    "iam = iam_handler()\n",
    "listRoleNames = [strRoleName for strRoleName in iam.get_all_role_names() if strPrefix in strRoleName]\n",
    "for strRoleName in listRoleNames:\n",
    "    print (strRoleName)\n",
    "    iam.delete_role(strRoleName=strRoleName)"
   ]
  },
  {
   "cell_type": "markdown",
   "metadata": {},
   "source": [
    ">Parameter store"
   ]
  },
  {
   "cell_type": "code",
   "execution_count": 15,
   "metadata": {},
   "outputs": [
    {
     "name": "stdout",
     "output_type": "stream",
     "text": [
      "  parameters: ['PREFIX'] is deleted successfully\n"
     ]
    }
   ],
   "source": [
    "listParams = pm.get_all_params()\n",
    "listParams = [strParam for strParam in listParams if strPrefix in strParam] + [\"PREFIX\"]\n",
    "pm.delete_param(listParams)"
   ]
  },
  {
   "cell_type": "code",
   "execution_count": null,
   "metadata": {},
   "outputs": [],
   "source": []
  },
  {
   "cell_type": "code",
   "execution_count": null,
   "metadata": {},
   "outputs": [],
   "source": []
  }
 ],
 "metadata": {
  "kernelspec": {
   "display_name": "Python 3.8.12 ('python3')",
   "language": "python",
   "name": "python3"
  },
  "language_info": {
   "codemirror_mode": {
    "name": "ipython",
    "version": 3
   },
   "file_extension": ".py",
   "mimetype": "text/x-python",
   "name": "python",
   "nbconvert_exporter": "python",
   "pygments_lexer": "ipython3",
   "version": "3.8.12"
  },
  "orig_nbformat": 4,
  "vscode": {
   "interpreter": {
    "hash": "3b41de70bedc0e302a3aeb58a0c77b854f2e56c8930e61a4aaa3340c96b01f1d"
   }
  }
 },
 "nbformat": 4,
 "nbformat_minor": 2
}
