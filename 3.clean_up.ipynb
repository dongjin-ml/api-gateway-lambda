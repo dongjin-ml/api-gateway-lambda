{
 "cells": [
  {
   "cell_type": "markdown",
   "metadata": {},
   "source": [
    "# <b> Clean up </b>"
   ]
  },
  {
   "cell_type": "markdown",
   "metadata": {},
   "source": [
    "## AutoReload"
   ]
  },
  {
   "cell_type": "code",
   "execution_count": 11,
   "metadata": {},
   "outputs": [
    {
     "name": "stdout",
     "output_type": "stream",
     "text": [
      "The autoreload extension is already loaded. To reload it, use:\n",
      "  %reload_ext autoreload\n"
     ]
    }
   ],
   "source": [
    "%load_ext autoreload\n",
    "%autoreload 2"
   ]
  },
  {
   "cell_type": "markdown",
   "metadata": {},
   "source": [
    "## Clean up"
   ]
  },
  {
   "cell_type": "code",
   "execution_count": 12,
   "metadata": {},
   "outputs": [],
   "source": [
    "import boto3\n",
    "from utils.ddb import ddb_handler\n",
    "from utils.iam import iam_handler\n",
    "from utils.ssm import parameter_store\n",
    "from utils.lambda_func import lambda_handler\n",
    "from utils.api_gateway import api_gateway_handler"
   ]
  },
  {
   "cell_type": "code",
   "execution_count": 13,
   "metadata": {},
   "outputs": [],
   "source": [
    "strRegionName=boto3.Session().region_name\n",
    "pm = parameter_store(strRegionName)\n",
    "strPrefix = pm.get_params(key=\"PREFIX\")"
   ]
  },
  {
   "cell_type": "markdown",
   "metadata": {},
   "source": [
    "> API-Gateway and Lambda"
   ]
  },
  {
   "cell_type": "code",
   "execution_count": 4,
   "metadata": {},
   "outputs": [
    {
     "name": "stdout",
     "output_type": "stream",
     "text": [
      "  lambda function: [API-GATEWAY-LAMBDA-DEMO-Lambda] is deleted successfully\n",
      "  api-gateway: [5q95fu1g5d] is deleted successfully\n"
     ]
    }
   ],
   "source": [
    "lam_handler = lambda_handler(region_name=pm.get_params(key=\"\".join([strPrefix, \"REGION\"])))\n",
    "apig = api_gateway_handler(pm.get_params(key=strPrefix+\"REGION\"))\n",
    "strLambdaName = pm.get_params(key=strPrefix+\"LAMBDA-NAME\")\n",
    "strApiId = pm.get_params(key=strPrefix+\"API-ID\")\n",
    "\n",
    "lam_handler.delete_function(strLambdaName)\n",
    "apig._delete_rest_api(api_id=strApiId)"
   ]
  },
  {
   "cell_type": "markdown",
   "metadata": {},
   "source": [
    "> DynamoDB and RDS (Aurora)"
   ]
  },
  {
   "cell_type": "code",
   "execution_count": 5,
   "metadata": {},
   "outputs": [
    {
     "name": "stdout",
     "output_type": "stream",
     "text": [
      "Table [API-GATEWAY-LAMBDA-DEMO-inference-results] is ACTIVE now.\n",
      "Table [API-GATEWAY-LAMBDA-DEMO-inference-results] is deleted successfully.\n"
     ]
    }
   ],
   "source": [
    "ddb_inf_res = ddb_handler(strTableName=pm.get_params(strPrefix+\"INFERENCE-RES-TABLE-NAME\"))\n",
    "ddb_inf_res.delete_table()"
   ]
  },
  {
   "cell_type": "markdown",
   "metadata": {},
   "source": [
    ">Role"
   ]
  },
  {
   "cell_type": "code",
   "execution_count": 9,
   "metadata": {},
   "outputs": [
    {
     "name": "stdout",
     "output_type": "stream",
     "text": [
      "API-GATEWAY-LAMBDA-DEMO-LambdaRole\n",
      "{'ResponseMetadata': {'RequestId': 'c0dcfedc-7a43-4286-9306-88f6adeb98e9', 'HTTPStatusCode': 200, 'HTTPHeaders': {'x-amzn-requestid': 'c0dcfedc-7a43-4286-9306-88f6adeb98e9', 'content-type': 'text/xml', 'content-length': '212', 'date': 'Fri, 09 Dec 2022 03:00:20 GMT'}, 'RetryAttempts': 0}}\n",
      "arn:aws:iam::aws:policy/service-role/AWSLambdaBasicExecutionRole\n",
      "{'ResponseMetadata': {'RequestId': '2010cd23-21cf-4413-bb89-7982801ec2fe', 'HTTPStatusCode': 200, 'HTTPHeaders': {'x-amzn-requestid': '2010cd23-21cf-4413-bb89-7982801ec2fe', 'content-type': 'text/xml', 'content-length': '212', 'date': 'Fri, 09 Dec 2022 03:00:20 GMT'}, 'RetryAttempts': 0}}\n",
      "arn:aws:iam::aws:policy/AmazonDynamoDBFullAccess\n",
      "{'ResponseMetadata': {'RequestId': '9eb0898d-1ca0-4495-8fd1-fd823d784195', 'HTTPStatusCode': 200, 'HTTPHeaders': {'x-amzn-requestid': '9eb0898d-1ca0-4495-8fd1-fd823d784195', 'content-type': 'text/xml', 'content-length': '212', 'date': 'Fri, 09 Dec 2022 03:00:21 GMT'}, 'RetryAttempts': 0}}\n",
      "arn:aws:iam::aws:policy/AmazonSageMakerFullAccess\n"
     ]
    }
   ],
   "source": [
    "iam = iam_handler()\n",
    "listRoleNames = [strRoleName for strRoleName in iam.get_all_role_names() if strPrefix in strRoleName]\n",
    "for strRoleName in listRoleNames:\n",
    "    print (strRoleName)\n",
    "    iam.delete_role(strRoleName=strRoleName)"
   ]
  },
  {
   "cell_type": "markdown",
   "metadata": {},
   "source": [
    ">Parameter store"
   ]
  },
  {
   "cell_type": "code",
   "execution_count": 15,
   "metadata": {},
   "outputs": [
    {
     "name": "stdout",
     "output_type": "stream",
     "text": [
      "  parameters: ['API-GATEWAY-LAMBDA-DEMO-'] is deleted successfully\n"
     ]
    }
   ],
   "source": [
    "listParams = pm.get_all_params()\n",
    "listParams = [strParam for strParam in listParams if strPrefix in strParam] + [strPrefix]\n",
    "pm.delete_param(listParams)"
   ]
  },
  {
   "cell_type": "code",
   "execution_count": null,
   "metadata": {},
   "outputs": [],
   "source": []
  },
  {
   "cell_type": "code",
   "execution_count": null,
   "metadata": {},
   "outputs": [],
   "source": []
  }
 ],
 "metadata": {
  "kernelspec": {
   "display_name": "Python 3.9.15 64-bit ('codeserver_py39')",
   "language": "python",
   "name": "python3"
  },
  "language_info": {
   "codemirror_mode": {
    "name": "ipython",
    "version": 3
   },
   "file_extension": ".py",
   "mimetype": "text/x-python",
   "name": "python",
   "nbconvert_exporter": "python",
   "pygments_lexer": "ipython3",
   "version": "3.9.15"
  },
  "orig_nbformat": 4,
  "vscode": {
   "interpreter": {
    "hash": "aca522a4f3a95a8cc19c0c49aa2b52717208ab4d9caac282bf163cf809ab5536"
   }
  }
 },
 "nbformat": 4,
 "nbformat_minor": 2
}
