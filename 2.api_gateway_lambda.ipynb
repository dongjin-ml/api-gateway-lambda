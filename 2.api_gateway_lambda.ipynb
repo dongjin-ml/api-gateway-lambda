{
 "cells": [
  {
   "cell_type": "markdown",
   "metadata": {},
   "source": [
    "# <B> api-gateway with lambda </B>"
   ]
  },
  {
   "cell_type": "markdown",
   "metadata": {},
   "source": [
    "## AutoReload"
   ]
  },
  {
   "cell_type": "code",
   "execution_count": 1,
   "metadata": {},
   "outputs": [],
   "source": [
    "%load_ext autoreload\n",
    "%autoreload 2"
   ]
  },
  {
   "cell_type": "markdown",
   "metadata": {},
   "source": [
    "## 0. Get parameters "
   ]
  },
  {
   "cell_type": "code",
   "execution_count": 2,
   "metadata": {},
   "outputs": [],
   "source": [
    "import boto3\n",
    "from utils.ssm import parameter_store"
   ]
  },
  {
   "cell_type": "code",
   "execution_count": 3,
   "metadata": {},
   "outputs": [],
   "source": [
    "strRegionName=boto3.Session().region_name\n",
    "pm = parameter_store(strRegionName)"
   ]
  },
  {
   "cell_type": "markdown",
   "metadata": {},
   "source": [
    "## 1. Create lambda function"
   ]
  },
  {
   "cell_type": "code",
   "execution_count": 4,
   "metadata": {},
   "outputs": [],
   "source": [
    "import shutil\n",
    "import zipfile\n",
    "import tempfile\n",
    "from utils.lambda_func import lambda_handler"
   ]
  },
  {
   "cell_type": "code",
   "execution_count": 5,
   "metadata": {},
   "outputs": [],
   "source": [
    "strPrefix = pm.get_params(key=\"PREFIX\")\n",
    "lam_handler = lambda_handler(region_name=pm.get_params(key=\"\".join([strPrefix, \"REGION\"])))"
   ]
  },
  {
   "cell_type": "code",
   "execution_count": 6,
   "metadata": {},
   "outputs": [],
   "source": [
    "strLambdaRoleArn = pm.get_params(key=strPrefix+\"LAMBDA-ROLE-ARN\")\n",
    "strLambdaFuncName = strPrefix+\"Lambda\"\n",
    "strLambdaSrcDir = \"./lambda/source\"\n",
    "strLambdaHandler = \"demo_lambda.lambda_handler\" "
   ]
  },
  {
   "cell_type": "code",
   "execution_count": 7,
   "metadata": {},
   "outputs": [
    {
     "name": "stdout",
     "output_type": "stream",
     "text": [
      "== CREATE LAMBDA FUNCTION ==\n",
      "  lambda function: [API-GATEWAY-LAMBDA-DEMO-Lambda] is already exist!!, so, this will be deleted and re-created.\n",
      "  lambda function: [API-GATEWAY-LAMBDA-DEMO-Lambda] is deleted successfully\n",
      "Argments for lambda below:\n",
      "\n",
      "{'Architectures': ['x86_64'],\n",
      " 'CodeSha256': '2APWn5xf6AniyOwYUHu/jfFooHEuC8ehZMLNrKey7Hg=',\n",
      " 'CodeSize': 2096,\n",
      " 'Description': 'Demo: api gateway with lambda',\n",
      " 'Environment': {'Variables': {'INFERENCE_RES_TABLE': 'API-GATEWAY-LAMBDA-DEMO-inference-results',\n",
      "                               'REGION': 'ap-northeast-2'}},\n",
      " 'EphemeralStorage': {'Size': 512},\n",
      " 'FunctionArn': 'arn:aws:lambda:ap-northeast-2:419974056037:function:API-GATEWAY-LAMBDA-DEMO-Lambda',\n",
      " 'FunctionName': 'API-GATEWAY-LAMBDA-DEMO-Lambda',\n",
      " 'Handler': 'demo_lambda.lambda_handler',\n",
      " 'LastModified': '2022-12-09T02:31:17.519+0000',\n",
      " 'MemorySize': 128,\n",
      " 'PackageType': 'Zip',\n",
      " 'ResponseMetadata': {'HTTPHeaders': {'connection': 'keep-alive',\n",
      "                                      'content-length': '1177',\n",
      "                                      'content-type': 'application/json',\n",
      "                                      'date': 'Fri, 09 Dec 2022 02:31:17 GMT',\n",
      "                                      'x-amzn-requestid': 'd40a7927-d1cd-40ef-b596-c2a70ed9815b'},\n",
      "                      'HTTPStatusCode': 201,\n",
      "                      'RequestId': 'd40a7927-d1cd-40ef-b596-c2a70ed9815b',\n",
      "                      'RetryAttempts': 0},\n",
      " 'RevisionId': 'a27d130b-8efd-4423-9af4-c8504590d42b',\n",
      " 'Role': 'arn:aws:iam::419974056037:role/API-GATEWAY-LAMBDA-DEMO-LambdaRole',\n",
      " 'Runtime': 'python3.9',\n",
      " 'State': 'Pending',\n",
      " 'StateReason': 'The function is being created.',\n",
      " 'StateReasonCode': 'Creating',\n",
      " 'Timeout': 3,\n",
      " 'TracingConfig': {'Mode': 'PassThrough'},\n",
      " 'Version': '19'}\n",
      "\n",
      "  lambda function: [API-GATEWAY-LAMBDA-DEMO-Lambda] is created successfully\n",
      "== COMPLETED ==\n",
      "LambdaArn: arn:aws:lambda:ap-northeast-2:419974056037:function:API-GATEWAY-LAMBDA-DEMO-Lambda\n"
     ]
    },
    {
     "data": {
      "text/plain": [
       "'Store suceess'"
      ]
     },
     "execution_count": 7,
     "metadata": {},
     "output_type": "execute_result"
    }
   ],
   "source": [
    "with tempfile.TemporaryDirectory() as tempDirPath:\n",
    "    \n",
    "    lambda_archive_path = shutil.make_archive(\n",
    "        base_name=tempDirPath,\n",
    "        format=\"zip\",\n",
    "        root_dir=strLambdaSrcDir,\n",
    "    )\n",
    "    \n",
    "    with open(lambda_archive_path, 'rb') as f: zipped_code = f.read()\n",
    "    \n",
    "    strLambdaArn = lam_handler.create_function(\n",
    "        Code=dict(ZipFile=zipped_code),\n",
    "        Description='Demo: api gateway with lambda',\n",
    "        Environment={\n",
    "           'Variables': {\n",
    "               'REGION':pm.get_params(key=strPrefix+\"REGION\"),\n",
    "               'INFERENCE_RES_TABLE': pm.get_params(key=strPrefix+\"INFERENCE-RES-TABLE-NAME\"),\n",
    "           },\n",
    "        },\n",
    "        FunctionName=strLambdaFuncName,\n",
    "        Handler=strLambdaHandler,\n",
    "        Publish=True,\n",
    "        Role=strLambdaRoleArn,\n",
    "        Runtime='python3.9',\n",
    "    )\n",
    "    \n",
    "print (f\"LambdaArn: {strLambdaArn}\")\n",
    "pm.put_params(key=strPrefix+\"LAMBDA-NAME\", value=strLambdaFuncName, overwrite=True)"
   ]
  },
  {
   "cell_type": "markdown",
   "metadata": {},
   "source": [
    "## 2. Create API-Gateway with Lambda"
   ]
  },
  {
   "cell_type": "code",
   "execution_count": 8,
   "metadata": {},
   "outputs": [],
   "source": [
    "from utils.api_gateway import api_gateway_handler"
   ]
  },
  {
   "cell_type": "code",
   "execution_count": 9,
   "metadata": {},
   "outputs": [],
   "source": [
    "strAccountId = pm.get_params(key=strPrefix+\"ACCOUNT-ID\")\n",
    "strApiName = strPrefix+\"api-gateway\"\n",
    "strApiDesc = \"api-gatway for demo\"\n",
    "strApiBasePath = \"demo-api\"\n",
    "strApiStage = \"dev\"\n",
    "strLambdaFuncArn = strLambdaArn\n",
    "apig = api_gateway_handler(pm.get_params(key=strPrefix+\"REGION\"))"
   ]
  },
  {
   "cell_type": "code",
   "execution_count": 10,
   "metadata": {},
   "outputs": [
    {
     "data": {
      "text/plain": [
       "'arn:aws:lambda:ap-northeast-2:419974056037:function:API-GATEWAY-LAMBDA-DEMO-Lambda'"
      ]
     },
     "execution_count": 10,
     "metadata": {},
     "output_type": "execute_result"
    }
   ],
   "source": [
    "strLambdaFuncArn"
   ]
  },
  {
   "cell_type": "code",
   "execution_count": 12,
   "metadata": {},
   "outputs": [
    {
     "name": "stdout",
     "output_type": "stream",
     "text": [
      "Creating Amazon API Gateway REST API API-GATEWAY-LAMBDA-DEMO-api-gateway...\n",
      "so arn:aws:execute-api:ap-northeast-2:419974056037:5q95fu1g5d/*/*/demo-api\n",
      "REST API created, URL is :\n",
      "\thttps://5q95fu1g5d.execute-api.ap-northeast-2.amazonaws.com/dev/demo-api\n",
      "Sleeping for a couple seconds to give AWS time to prepare...\n"
     ]
    },
    {
     "data": {
      "text/plain": [
       "'Store suceess'"
      ]
     },
     "execution_count": 12,
     "metadata": {},
     "output_type": "execute_result"
    }
   ],
   "source": [
    "strApiUrl, strApiId = apig.create_rest_api_with_lambda(\n",
    "    api_name=strApiName,\n",
    "    api_description=strApiDesc,\n",
    "    api_base_path=strApiBasePath,\n",
    "    api_stage=strApiStage,\n",
    "    account_id=strAccountId,\n",
    "    lambda_function_arn=strLambdaFuncArn\n",
    ")\n",
    "pm.put_params(key=strPrefix+\"API-URL\", value=strApiUrl.encode('utf-8'), overwrite=True)\n",
    "pm.put_params(key=strPrefix+\"API-ID\", value=strApiId, overwrite=True)"
   ]
  },
  {
   "cell_type": "markdown",
   "metadata": {},
   "source": [
    "## 3. Test"
   ]
  },
  {
   "cell_type": "code",
   "execution_count": 12,
   "metadata": {},
   "outputs": [],
   "source": [
    "import json\n",
    "import requests\n",
    "from pprint import pprint "
   ]
  },
  {
   "cell_type": "code",
   "execution_count": 13,
   "metadata": {},
   "outputs": [
    {
     "data": {
      "text/plain": [
       "'https://t77j63kgch.execute-api.ap-northeast-2.amazonaws.com/dev/demo-api'"
      ]
     },
     "execution_count": 13,
     "metadata": {},
     "output_type": "execute_result"
    }
   ],
   "source": [
    "strApiUrl"
   ]
  },
  {
   "cell_type": "code",
   "execution_count": 14,
   "metadata": {},
   "outputs": [
    {
     "name": "stdout",
     "output_type": "stream",
     "text": [
      "('{\"resultCode\": \"200\", \"resultMsg\": \"Success\", \"resultData\": [{\"productCode\": '\n",
      " '\"325396\", \"recommendType\": \"best\", \"rank\": \"1\"}, {\"productCode\": \"122762\", '\n",
      " '\"recommendType\": \"best\", \"rank\": \"2\"}, {\"productCode\": \"122751\", '\n",
      " '\"recommendType\": \"best\", \"rank\": \"3\"}, {\"productCode\": \"359769\", '\n",
      " '\"recommendType\": \"best\", \"rank\": \"4\"}, {\"productCode\": \"338779\", '\n",
      " '\"recommendType\": \"best\", \"rank\": \"5\"}, {\"productCode\": \"168337\", '\n",
      " '\"recommendType\": \"best\", \"rank\": \"6\"}, {\"productCode\": \"165245\", '\n",
      " '\"recommendType\": \"best\", \"rank\": \"7\"}, {\"productCode\": \"134571\", '\n",
      " '\"recommendType\": \"best\", \"rank\": \"8\"}, {\"productCode\": \"281558\", '\n",
      " '\"recommendType\": \"best\", \"rank\": \"9\"}, {\"productCode\": \"514939\", '\n",
      " '\"recommendType\": \"best\", \"rank\": \"10\"}, {\"productCode\": \"278158\", '\n",
      " '\"recommendType\": \"cross\", \"rank\": \"1\"}, {\"productCode\": \"101583\", '\n",
      " '\"recommendType\": \"cross\", \"rank\": \"2\"}, {\"productCode\": \"159994\", '\n",
      " '\"recommendType\": \"cross\", \"rank\": \"3\"}, {\"productCode\": \"252430\", '\n",
      " '\"recommendType\": \"cross\", \"rank\": \"4\"}, {\"productCode\": \"157724\", '\n",
      " '\"recommendType\": \"cross\", \"rank\": \"5\"}, {\"productCode\": \"118284\", '\n",
      " '\"recommendType\": \"cross\", \"rank\": \"6\"}, {\"productCode\": \"132482\", '\n",
      " '\"recommendType\": \"cross\", \"rank\": \"7\"}, {\"productCode\": \"107255\", '\n",
      " '\"recommendType\": \"cross\", \"rank\": \"8\"}, {\"productCode\": \"177212\", '\n",
      " '\"recommendType\": \"cross\", \"rank\": \"9\"}, {\"productCode\": \"224702\", '\n",
      " '\"recommendType\": \"cross\", \"rank\": \"10\"}, {\"productCode\": \"516550\", '\n",
      " '\"recommendType\": \"manual\", \"rank\": \"1\"}, {\"productCode\": \"324420\", '\n",
      " '\"recommendType\": \"manual\", \"rank\": \"2\"}, {\"productCode\": \"209014\", '\n",
      " '\"recommendType\": \"manual\", \"rank\": \"3\"}, {\"productCode\": \"809605\", '\n",
      " '\"recommendType\": \"manual\", \"rank\": \"4\"}, {\"productCode\": \"162555\", '\n",
      " '\"recommendType\": \"manual\", \"rank\": \"5\"}, {\"productCode\": \"372484\", '\n",
      " '\"recommendType\": \"manual\", \"rank\": \"6\"}, {\"productCode\": \"171891\", '\n",
      " '\"recommendType\": \"manual\", \"rank\": \"7\"}, {\"productCode\": \"373557\", '\n",
      " '\"recommendType\": \"manual\", \"rank\": \"8\"}, {\"productCode\": \"170503\", '\n",
      " '\"recommendType\": \"manual\", \"rank\": \"9\"}, {\"productCode\": \"373336\", '\n",
      " '\"recommendType\": \"manual\", \"rank\": \"10\"}]}')\n"
     ]
    }
   ],
   "source": [
    "dicRequest = {\n",
    "    \"userCode\": \"106561002\",\n",
    "    \"productInfo\":{\n",
    "        \"productCode\": [\"373120\", \"291221\", \"297909\", \"359769\", \"279150\", \"259401\", \"520967\"],\n",
    "    },\n",
    "    \"option\": {\n",
    "        \"manualTopn\": \"10\",\n",
    "        \"bestTopn\": \"10\",\n",
    "        \"crossTopn\": \"10\"\n",
    "    },\n",
    "}\n",
    "\n",
    "try:\n",
    "    response = requests.post(strApiUrl, json.dumps(dicRequest))\n",
    "    response = json.loads(response.content)\n",
    "    #results = response[\"resultData\"]\n",
    "\n",
    "    pprint (response)\n",
    "    \n",
    "except Exception as e:\n",
    "    print (\"ERROR\", e)"
   ]
  },
  {
   "cell_type": "code",
   "execution_count": null,
   "metadata": {},
   "outputs": [],
   "source": []
  }
 ],
 "metadata": {
  "kernelspec": {
   "display_name": "Python 3.9.15 ('codeserver_py39': conda)",
   "language": "python",
   "name": "python3"
  },
  "language_info": {
   "codemirror_mode": {
    "name": "ipython",
    "version": 3
   },
   "file_extension": ".py",
   "mimetype": "text/x-python",
   "name": "python",
   "nbconvert_exporter": "python",
   "pygments_lexer": "ipython3",
   "version": "3.9.15"
  },
  "orig_nbformat": 4,
  "vscode": {
   "interpreter": {
    "hash": "aca522a4f3a95a8cc19c0c49aa2b52717208ab4d9caac282bf163cf809ab5536"
   }
  }
 },
 "nbformat": 4,
 "nbformat_minor": 2
}
