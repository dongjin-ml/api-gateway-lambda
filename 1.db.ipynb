{
 "cells": [
  {
   "cell_type": "markdown",
   "metadata": {},
   "source": [
    "# <b> Database </b>"
   ]
  },
  {
   "cell_type": "markdown",
   "metadata": {},
   "source": [
    "## AutoReload"
   ]
  },
  {
   "cell_type": "code",
   "execution_count": 1,
   "metadata": {},
   "outputs": [],
   "source": [
    "%load_ext autoreload\n",
    "%autoreload 2"
   ]
  },
  {
   "cell_type": "markdown",
   "metadata": {},
   "source": [
    "## 1. DynamoDB"
   ]
  },
  {
   "cell_type": "code",
   "execution_count": 2,
   "metadata": {},
   "outputs": [],
   "source": [
    "import time\n",
    "import boto3\n",
    "from utils.ddb import ddb_constructor\n",
    "from utils.ssm import parameter_store"
   ]
  },
  {
   "cell_type": "code",
   "execution_count": 3,
   "metadata": {},
   "outputs": [],
   "source": [
    "strRegionName=boto3.Session().region_name\n",
    "pm = parameter_store(strRegionName)\n",
    "strPrefix = pm.get_params(key=\"PREFIX\")\n",
    "ddb_construction = ddb_constructor(region_name=pm.get_params(key=strPrefix+\"REGION\"))"
   ]
  },
  {
   "cell_type": "markdown",
   "metadata": {},
   "source": [
    "### 1.1 Create table: Inference-results (모델 배치추론결과)"
   ]
  },
  {
   "cell_type": "code",
   "execution_count": 4,
   "metadata": {},
   "outputs": [],
   "source": [
    "strDDBTableName = strPrefix+'inference-results'"
   ]
  },
  {
   "cell_type": "code",
   "execution_count": 5,
   "metadata": {},
   "outputs": [
    {
     "name": "stdout",
     "output_type": "stream",
     "text": [
      "dynamodb.Table(name='API-GATEWAY-LAMBDA-DEMO-inference-results') was created!!\n"
     ]
    },
    {
     "data": {
      "text/plain": [
       "'Store suceess'"
      ]
     },
     "execution_count": 5,
     "metadata": {},
     "output_type": "execute_result"
    }
   ],
   "source": [
    "ddb_construction.create_table(\n",
    "    AttributeDefinitions=[\n",
    "        {'AttributeName': 'store_id', 'AttributeType': 'N'}, # 'S'|'N'|'B' \n",
    "    ],\n",
    "    TableName=strDDBTableName,\n",
    "    KeySchema=[\n",
    "        {'AttributeName': 'store_id', 'KeyType': 'HASH'}, # 'HASH'(partition)|'RANGE'(sort)\n",
    "    ],\n",
    "    BillingMode='PAY_PER_REQUEST',# 'PROVISIONED'|'PAY_PER_REQUEST'('ProvisionedThroughput' requried),  \n",
    "    #ProvisionedThroughput={'ReadCapacityUnits': 123, 'WriteCapacityUnits': 123},\n",
    ")\n",
    "pm.put_params(key=strPrefix+\"INFERENCE-RES-TABLE-NAME\", value=strDDBTableName, overwrite=True)"
   ]
  },
  {
   "cell_type": "markdown",
   "metadata": {},
   "source": [
    "### 1.2 Insert records"
   ]
  },
  {
   "cell_type": "code",
   "execution_count": 11,
   "metadata": {},
   "outputs": [],
   "source": [
    "import json\n",
    "from decimal import Decimal\n",
    "from utils.ddb import ddb_handler"
   ]
  },
  {
   "cell_type": "code",
   "execution_count": 13,
   "metadata": {},
   "outputs": [
    {
     "name": "stdout",
     "output_type": "stream",
     "text": [
      "Table [API-GATEWAY-LAMBDA-DEMO-inference-results] is ACTIVE now.\n"
     ]
    }
   ],
   "source": [
    "ddb_inf_res = ddb_handler(strTableName=strDDBTableName, region_name=pm.get_params(key=strPrefix+\"REGION\"))\n",
    "time.sleep(2)"
   ]
  },
  {
   "cell_type": "code",
   "execution_count": 14,
   "metadata": {},
   "outputs": [],
   "source": [
    "dicRecord = {\n",
    "    \"store_id\": 106561002,\n",
    "    \"info\": [\n",
    "        {\"유사판매처ID\": 169081000, \"적용경로\": \"TA\", \"생성여부\": 0, \"유사도\": 0.47},\n",
    "        {\"유사판매처ID\": 238671000, \"적용경로\": \"TA\", \"생성여부\": 0, \"유사도\": 0.46},\n",
    "        {\"유사판매처ID\": 241381000, \"적용경로\": \"TA\", \"생성여부\": 0, \"유사도\": 0.45},\n",
    "        {\"유사판매처ID\": 243501000, \"적용경로\": \"TA\", \"생성여부\": 0, \"유사도\": 0.44},\n",
    "        {\"유사판매처ID\": 244231000, \"적용경로\": \"TA\", \"생성여부\": 0, \"유사도\": 0.43},\n",
    "        {\"유사판매처ID\": 248941000, \"적용경로\": \"TA\", \"생성여부\": 0, \"유사도\": 0.42},\n",
    "        {\"유사판매처ID\": 252621000, \"적용경로\": \"TA\", \"생성여부\": 0, \"유사도\": 0.41},\n",
    "        {\"유사판매처ID\": 252771001, \"적용경로\": \"TA\", \"생성여부\": 0, \"유사도\": 0.40},\n",
    "        {\"유사판매처ID\": 254721000, \"적용경로\": \"TA\", \"생성여부\": 0, \"유사도\": 0.39},\n",
    "        {\"유사판매처ID\": 277151000, \"적용경로\": \"TA\", \"생성여부\": 0, \"유사도\": 0.38},\n",
    "        {\"유사판매처ID\": 282381000, \"적용경로\": \"TA\", \"생성여부\": 0, \"유사도\": 0.37},\n",
    "        {\"유사판매처ID\": 511551008, \"적용경로\": \"TA\", \"생성여부\": 0, \"유사도\": 0.36},\n",
    "        {\"유사판매처ID\": 522401009, \"적용경로\": \"TA\", \"생성여부\": 0, \"유사도\": 0.35},\n",
    "        {\"유사판매처ID\": 522401010, \"적용경로\": \"TA\", \"생성여부\": 0, \"유사도\": 0.34},\n",
    "        {\"유사판매처ID\": 523361003, \"적용경로\": \"TA\", \"생성여부\": 0, \"유사도\": 0.33},\n",
    "        {\"유사판매처ID\": 523361004, \"적용경로\": \"TA\", \"생성여부\": 0, \"유사도\": 0.32},\n",
    "        {\"유사판매처ID\": 523701001, \"적용경로\": \"TA\", \"생성여부\": 0, \"유사도\": 0.31},\n",
    "        {\"유사판매처ID\": 533911000, \"적용경로\": \"TA\", \"생성여부\": 0, \"유사도\": 0.30},\n",
    "        {\"유사판매처ID\": 542751001, \"적용경로\": \"TA\", \"생성여부\": 0, \"유사도\": 0.29},\n",
    "        {\"유사판매처ID\": 550111000, \"적용경로\": \"TA\", \"생성여부\": 0, \"유사도\": 0.28},\n",
    "    ]\n",
    "}"
   ]
  },
  {
   "cell_type": "code",
   "execution_count": 15,
   "metadata": {},
   "outputs": [],
   "source": [
    "dicItem = json.loads(json.dumps(dicRecord), parse_float=Decimal)\n",
    "ddb_inf_res.put_item(dicItem)\n",
    "time.sleep(2)"
   ]
  },
  {
   "cell_type": "markdown",
   "metadata": {},
   "source": [
    "### 1.3 Check records"
   ]
  },
  {
   "cell_type": "code",
   "execution_count": 16,
   "metadata": {},
   "outputs": [],
   "source": [
    "from operator import itemgetter"
   ]
  },
  {
   "cell_type": "code",
   "execution_count": 17,
   "metadata": {},
   "outputs": [
    {
     "data": {
      "text/plain": [
       "[169081000,\n",
       " 238671000,\n",
       " 241381000,\n",
       " 243501000,\n",
       " 244231000,\n",
       " 248941000,\n",
       " 252621000,\n",
       " 252771001,\n",
       " 254721000,\n",
       " 277151000,\n",
       " 282381000,\n",
       " 511551008,\n",
       " 522401009,\n",
       " 522401010,\n",
       " 523361003,\n",
       " 523361004,\n",
       " 523701001,\n",
       " 533911000,\n",
       " 542751001,\n",
       " 550111000]"
      ]
     },
     "execution_count": 17,
     "metadata": {},
     "output_type": "execute_result"
    }
   ],
   "source": [
    "dicKey = {\"store_id\":106561002}\n",
    "dicRes = ddb_inf_res.get_item(dicKey)\n",
    "\n",
    "nStoreID = int(dicRes[\"store_id\"])\n",
    "listInfo = dicRes[\"info\"]\n",
    "listInfo = sorted(listInfo, key=itemgetter('유사도'), reverse=True)\n",
    "listSimStoreIDs = [int(dicInfo[\"유사판매처ID\"]) for dicInfo in listInfo]\n",
    "listSimStoreIDs\n"
   ]
  },
  {
   "cell_type": "markdown",
   "metadata": {},
   "source": [
    "### 1.4 Truncate table (optional)"
   ]
  },
  {
   "cell_type": "code",
   "execution_count": 12,
   "metadata": {},
   "outputs": [
    {
     "name": "stdout",
     "output_type": "stream",
     "text": [
      "Deleted 1\n"
     ]
    }
   ],
   "source": [
    "ddb_inf_res.truncate_table()"
   ]
  }
 ],
 "metadata": {
  "kernelspec": {
   "display_name": "Python 3.8.12 ('python3')",
   "language": "python",
   "name": "python3"
  },
  "language_info": {
   "codemirror_mode": {
    "name": "ipython",
    "version": 3
   },
   "file_extension": ".py",
   "mimetype": "text/x-python",
   "name": "python",
   "nbconvert_exporter": "python",
   "pygments_lexer": "ipython3",
   "version": "3.8.12"
  },
  "orig_nbformat": 4,
  "vscode": {
   "interpreter": {
    "hash": "3b41de70bedc0e302a3aeb58a0c77b854f2e56c8930e61a4aaa3340c96b01f1d"
   }
  }
 },
 "nbformat": 4,
 "nbformat_minor": 2
}
